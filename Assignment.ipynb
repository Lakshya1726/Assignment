{
  "nbformat": 4,
  "nbformat_minor": 0,
  "metadata": {
    "colab": {
      "provenance": []
    },
    "kernelspec": {
      "name": "python3",
      "display_name": "Python 3"
    },
    "language_info": {
      "name": "python"
    }
  },
  "cells": [
    {
      "cell_type": "code",
      "execution_count": 1,
      "metadata": {
        "colab": {
          "base_uri": "https://localhost:8080/"
        },
        "id": "4NaWRYbu9AYg",
        "outputId": "e06a0958-d1e8-4eea-deeb-9b897c9d1485"
      },
      "outputs": [
        {
          "output_type": "stream",
          "name": "stdout",
          "text": [
            "Requirement already satisfied: opencv-python in /usr/local/lib/python3.10/dist-packages (4.8.0.76)\n",
            "Requirement already satisfied: opencv-python-headless in /usr/local/lib/python3.10/dist-packages (4.10.0.84)\n",
            "Requirement already satisfied: numpy in /usr/local/lib/python3.10/dist-packages (1.25.2)\n"
          ]
        }
      ],
      "source": [
        "!pip install opencv-python opencv-python-headless numpy"
      ]
    },
    {
      "cell_type": "code",
      "source": [
        "import cv2\n",
        "import numpy as np\n",
        "import datetime"
      ],
      "metadata": {
        "id": "ypVbDRVR9IVQ"
      },
      "execution_count": 2,
      "outputs": []
    },
    {
      "cell_type": "code",
      "source": [
        "def detect_balls(frame):\n",
        "    hsv = cv2.cvtColor(frame, cv2.COLOR_BGR2HSV)\n",
        "\n",
        "    color_ranges = {\n",
        "        'red': ((0, 100, 100), (10, 255, 255)),\n",
        "        'green': ((50, 100, 100), (70, 255, 255)),\n",
        "        'blue': ((100, 100, 100), (130, 255, 255)),\n",
        "    }\n",
        "\n",
        "    balls = []\n",
        "\n",
        "    for color, (lower, upper) in color_ranges.items():\n",
        "        mask = cv2.inRange(hsv, lower, upper)\n",
        "        contours, _ = cv2.findContours(mask, cv2.RETR_TREE, cv2.CHAIN_APPROX_SIMPLE)\n",
        "\n",
        "        for contour in contours:\n",
        "            if cv2.contourArea(contour) > 500:\n",
        "                (x, y), radius = cv2.minEnclosingCircle(contour)\n",
        "                center = (int(x), int(y))\n",
        "                radius = int(radius)\n",
        "                if radius > 10:\n",
        "                    balls.append((color, center, radius))\n",
        "\n",
        "    return balls\n",
        "\n",
        "def get_quadrant(center, width, height):\n",
        "    x, y = center\n",
        "    if x < width / 2 and y < height / 2:\n",
        "        return 1\n",
        "    elif x >= width / 2 and y < height / 2:\n",
        "        return 2\n",
        "    elif x < width / 2 and y >= height / 2:\n",
        "        return 3\n",
        "    else:\n",
        "        return 4\n"
      ],
      "metadata": {
        "id": "fmx6J4IN91Sc"
      },
      "execution_count": 3,
      "outputs": []
    },
    {
      "cell_type": "code",
      "source": [
        "def process_video(input_video_path, output_video_path, output_log_path):\n",
        "    cap = cv2.VideoCapture(input_video_path)\n",
        "    fourcc = cv2.VideoWriter_fourcc(*'XVID')\n",
        "    out = cv2.VideoWriter(output_video_path, fourcc, 20.0, (int(cap.get(3)), int(cap.get(4))))\n",
        "\n",
        "    width = int(cap.get(cv2.CAP_PROP_FRAME_WIDTH))\n",
        "    height = int(cap.get(cv2.CAP_PROP_FRAME_HEIGHT))\n",
        "    fps = cap.get(cv2.CAP_PROP_FPS)\n",
        "    frame_count = int(cap.get(cv2.CAP_PROP_FRAME_COUNT))\n",
        "    duration = frame_count / fps\n",
        "\n",
        "    log = []\n",
        "\n",
        "    ball_positions = {}\n",
        "\n",
        "    while cap.isOpened():\n",
        "        ret, frame = cap.read()\n",
        "        if not ret:\n",
        "            break\n",
        "\n",
        "        timestamp = cap.get(cv2.CAP_PROP_POS_MSEC) / 1000.0\n",
        "        balls = detect_balls(frame)\n",
        "\n",
        "        for ball in balls:\n",
        "            color, center, radius = ball\n",
        "            quadrant = get_quadrant(center, width, height)\n",
        "\n",
        "            if color not in ball_positions:\n",
        "                ball_positions[color] = {}\n",
        "\n",
        "            if quadrant not in ball_positions[color]:\n",
        "                ball_positions[color][quadrant] = False\n",
        "\n",
        "            if not ball_positions[color][quadrant]:\n",
        "                ball_positions[color][quadrant] = True\n",
        "                log.append(f\"{timestamp:.2f}, {quadrant}, {color}, Entry\")\n",
        "                cv2.putText(frame, f\"Entry {color} {quadrant} {timestamp:.2f}\", center, cv2.FONT_HERSHEY_SIMPLEX, 0.5, (255, 255, 255), 2)\n",
        "\n",
        "        for color in ball_positions:\n",
        "            for quadrant in ball_positions[color]:\n",
        "                if ball_positions[color][quadrant]:\n",
        "                    ball_positions[color][quadrant] = False\n",
        "                    for ball in balls:\n",
        "                        if ball[0] == color and get_quadrant(ball[1], width, height) == quadrant:\n",
        "                            ball_positions[color][quadrant] = True\n",
        "                            break\n",
        "                    if not ball_positions[color][quadrant]:\n",
        "                        log.append(f\"{timestamp:.2f}, {quadrant}, {color}, Exit\")\n",
        "                        cv2.putText(frame, f\"Exit {color} {quadrant} {timestamp:.2f}\", (int(width / 2), int(height / 2)), cv2.FONT_HERSHEY_SIMPLEX, 0.5, (255, 255, 255), 2)\n",
        "\n",
        "        for ball in balls:\n",
        "            color, center, radius = ball\n",
        "            cv2.circle(frame, center, radius, (0, 255, 0), 2)\n",
        "\n",
        "        out.write(frame)\n",
        "\n",
        "    cap.release()\n",
        "    out.release()\n",
        "\n",
        "    with open(output_log_path, 'w') as f:\n",
        "        for entry in log:\n",
        "            f.write(f\"{entry}\\n\")\n"
      ],
      "metadata": {
        "id": "dvCNZVpG-LDD"
      },
      "execution_count": 5,
      "outputs": []
    },
    {
      "cell_type": "code",
      "source": [
        "if __name__ == \"__main__\":\n",
        "    input_video_path = '/content/AI Assignment video.mp4'\n",
        "    output_video_path = 'output_video.avi'\n",
        "    output_log_path = 'output_log.txt'\n",
        "\n",
        "    process_video(input_video_path, output_video_path, output_log_path)\n"
      ],
      "metadata": {
        "id": "_17LXiAM-T_T"
      },
      "execution_count": 6,
      "outputs": []
    },
    {
      "cell_type": "code",
      "source": [],
      "metadata": {
        "id": "4PBIW71x-1AK"
      },
      "execution_count": null,
      "outputs": []
    }
  ]
}